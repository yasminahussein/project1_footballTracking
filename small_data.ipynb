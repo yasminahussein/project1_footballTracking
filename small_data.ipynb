{
 "cells": [
  {
   "cell_type": "code",
   "execution_count": 1,
   "id": "2e4e2826-9396-49e8-99c8-c2790fd200fc",
   "metadata": {},
   "outputs": [],
   "source": [
    "import numpy as np\n",
    "import matplotlib.pyplot as plt\n",
    "import seaborn as sns\n",
    "import os\n",
    "import cv2\n",
    "from sklearn.cluster import KMeans"
   ]
  },
  {
   "cell_type": "markdown",
   "id": "52b85dad-b0f6-4f05-a7c5-2dcb1dd1d5d0",
   "metadata": {},
   "source": [
    "# clustering"
   ]
  },
  {
   "cell_type": "code",
   "execution_count": 2,
   "id": "a435a40d-b2c7-4c03-976e-011b03b386cb",
   "metadata": {},
   "outputs": [
    {
     "name": "stderr",
     "output_type": "stream",
     "text": [
      "C:\\Users\\DELL\\anaconda3\\lib\\site-packages\\sklearn\\cluster\\_kmeans.py:1436: UserWarning: KMeans is known to have a memory leak on Windows with MKL, when there are less chunks than available threads. You can avoid it by setting the environment variable OMP_NUM_THREADS=1.\n",
      "  warnings.warn(\n"
     ]
    }
   ],
   "source": [
    "# Sample data with player IDs and their coordinates\n",
    "unique_ids2 = {\n",
    "    \"ID_1\": [(105, 205), (110, 210), (108, 208), (112, 215), (115, 220)],\n",
    "    \"ID_2\": [(155, 255), (160, 260), (165, 265), (170, 270), (175, 275), (300, 250)],\n",
    "    \"ID_3\": [(125, 225), (130, 230), (128, 228), (190, 420), (135, 235), (140, 240), (120, -25), (-2, 40)],\n",
    "    \"ID_4\": [(355, 355), (360, 360), (365, 365), (370, 370), (375, 375)],\n",
    "    \"ID_5\": [(125, 224), (128, 227), (130, 230), (132, 232), (134, 234)],\n",
    "    \"ID_6\": [(15, 100), (20, 105), (25, 110), (30, 115), (35, 120)],\n",
    "    \"ID_7\": [(13, 25), (15, 30), (17, 35), (20, 40), (23, 45)],\n",
    "    \"ID_8\": [(100, 200), (105, 205), (110, 210), (115, 215), (120, 220)],\n",
    "}\n",
    "\n",
    "id_to_new_clusters2={}\n",
    "clustered_coordinates2={i: [] for i in range(4)}\n",
    "index = 0\n",
    "# Flatten the coordinates into a 2D list (each entry is a coordinate pair)\n",
    "all_coordinates2 = [coord for coords in unique_ids2.values() for coord in coords]\n",
    "# Convert to numpy array for KMeans\n",
    "all_coordinates2 = np.array(all_coordinates2)\n",
    "\n",
    "kmeans2 = KMeans(n_clusters=4, n_init=10)\n",
    "clusters2 = kmeans2.fit_predict(all_coordinates2)\n",
    "\n",
    "for player_id, coords in unique_ids2.items():\n",
    "    cluster_ids = [clusters2[index + i] for i in range(len(coords))]\n",
    "    id_to_new_clusters2[player_id] = cluster_ids  # Map old IDs to their clusters\n",
    "\n",
    "    for i in range(len(coords)):\n",
    "        cluster_id = clusters2[index + i]\n",
    "        clustered_coordinates2[cluster_id].append(all_coordinates2[index + i])\n",
    "        \n",
    "    index += len(coords)\n"
   ]
  },
  {
   "cell_type": "code",
   "execution_count": 3,
   "id": "0cba4ef0-0ee8-43b0-bdb8-c4316c565ebf",
   "metadata": {
    "scrolled": true
   },
   "outputs": [
    {
     "name": "stdout",
     "output_type": "stream",
     "text": [
      "Old IDs to New Clusters Mapping:\n",
      "ID_1 -> Cluster {0}\n",
      "ID_2 -> Cluster {0, 2}\n",
      "ID_3 -> Cluster {0, 1, 3}\n",
      "ID_4 -> Cluster {2}\n",
      "ID_5 -> Cluster {0}\n",
      "ID_6 -> Cluster {1}\n",
      "ID_7 -> Cluster {1}\n",
      "ID_8 -> Cluster {0}\n",
      "\n",
      "Clustered Coordinates:\n",
      "Cluster 0: [array([105, 205]), array([110, 210]), array([108, 208]), array([112, 215]), array([115, 220]), array([155, 255]), array([160, 260]), array([165, 265]), array([170, 270]), array([175, 275]), array([125, 225]), array([130, 230]), array([128, 228]), array([135, 235]), array([140, 240]), array([125, 224]), array([128, 227]), array([130, 230]), array([132, 232]), array([134, 234]), array([100, 200]), array([105, 205]), array([110, 210]), array([115, 215]), array([120, 220])]\n",
      "Cluster 1: [array([120, -25]), array([-2, 40]), array([ 15, 100]), array([ 20, 105]), array([ 25, 110]), array([ 30, 115]), array([ 35, 120]), array([13, 25]), array([15, 30]), array([17, 35]), array([20, 40]), array([23, 45])]\n",
      "Cluster 2: [array([300, 250]), array([355, 355]), array([360, 360]), array([365, 365]), array([370, 370]), array([375, 375])]\n",
      "Cluster 3: [array([190, 420])]\n"
     ]
    }
   ],
   "source": [
    "# Step 4: Output re-assigned IDs and coordinates\n",
    "print(\"Old IDs to New Clusters Mapping:\")\n",
    "for old_id, cluster_id in id_to_new_clusters2.items():\n",
    "    print(f\"{old_id} -> Cluster {set(cluster_id)}\")\n",
    "\n",
    "new_ids={}\n",
    "print(\"\\nClustered Coordinates:\")\n",
    "for cluster_id, points in clustered_coordinates2.items():\n",
    "    print(f\"Cluster {cluster_id}: {points}\")\n",
    "    new_ids[cluster_id]=np.array(points).tolist()"
   ]
  },
  {
   "cell_type": "code",
   "execution_count": 7,
   "id": "c690bb96-b3ef-49c0-9a84-82764f439e92",
   "metadata": {
    "scrolled": true
   },
   "outputs": [
    {
     "data": {
      "text/plain": [
       "{0: [[105, 205],\n",
       "  [110, 210],\n",
       "  [108, 208],\n",
       "  [112, 215],\n",
       "  [115, 220],\n",
       "  [155, 255],\n",
       "  [160, 260],\n",
       "  [165, 265],\n",
       "  [170, 270],\n",
       "  [175, 275],\n",
       "  [125, 225],\n",
       "  [130, 230],\n",
       "  [128, 228],\n",
       "  [135, 235],\n",
       "  [140, 240],\n",
       "  [125, 224],\n",
       "  [128, 227],\n",
       "  [130, 230],\n",
       "  [132, 232],\n",
       "  [134, 234],\n",
       "  [100, 200],\n",
       "  [105, 205],\n",
       "  [110, 210],\n",
       "  [115, 215],\n",
       "  [120, 220]],\n",
       " 1: [[120, -25],\n",
       "  [-2, 40],\n",
       "  [15, 100],\n",
       "  [20, 105],\n",
       "  [25, 110],\n",
       "  [30, 115],\n",
       "  [35, 120],\n",
       "  [13, 25],\n",
       "  [15, 30],\n",
       "  [17, 35],\n",
       "  [20, 40],\n",
       "  [23, 45]],\n",
       " 2: [[300, 250], [355, 355], [360, 360], [365, 365], [370, 370], [375, 375]],\n",
       " 3: [[190, 420]]}"
      ]
     },
     "execution_count": 7,
     "metadata": {},
     "output_type": "execute_result"
    }
   ],
   "source": [
    "new_ids"
   ]
  },
  {
   "cell_type": "code",
   "execution_count": 9,
   "id": "ba070ddb-50d7-4455-83a5-365d8f171d1e",
   "metadata": {},
   "outputs": [
    {
     "name": "stdout",
     "output_type": "stream",
     "text": [
      "0 [[105, 205], [110, 210], [108, 208], [112, 215], [115, 220], [155, 255], [160, 260], [165, 265], [170, 270], [175, 275], [125, 225], [130, 230], [128, 228], [135, 235], [140, 240], [125, 224], [128, 227], [130, 230], [132, 232], [134, 234], [100, 200], [105, 205], [110, 210], [115, 215], [120, 220]]\n",
      "1 [[120, -25], [-2, 40], [15, 100], [20, 105], [25, 110], [30, 115], [35, 120], [13, 25], [15, 30], [17, 35], [20, 40], [23, 45]]\n",
      "2 [[300, 250], [355, 355], [360, 360], [365, 365], [370, 370], [375, 375]]\n",
      "3 [[190, 420]]\n",
      "{0: [[105, 110, 108, 112, 115, 155, 160, 165, 170, 175, 125, 130, 128, 135, 140, 125, 128, 130, 132, 134, 100, 105, 110, 115, 120], [205, 210, 208, 215, 220, 255, 260, 265, 270, 275, 225, 230, 228, 235, 240, 224, 227, 230, 232, 234, 200, 205, 210, 215, 220]], 1: [[120, -2, 15, 20, 25, 30, 35, 13, 15, 17, 20, 23], [-25, 40, 100, 105, 110, 115, 120, 25, 30, 35, 40, 45]], 2: [[300, 355, 360, 365, 370, 375], [250, 355, 360, 365, 370, 375]], 3: [[190], [420]]}\n"
     ]
    }
   ],
   "source": [
    "new_ids_copy={}\n",
    "for id_key,coord_values in new_ids.items(): \n",
    "    x=[]\n",
    "    y=[]\n",
    "    print(id_key,coord_values)\n",
    "    for coord in coord_values:\n",
    "        x.append(coord[0])\n",
    "        y.append(coord[1])\n",
    "\n",
    "    new_ids_copy[id_key]=[x,y]\n",
    "print(new_ids_copy)"
   ]
  },
  {
   "cell_type": "markdown",
   "id": "edf73593-757a-48eb-ac91-1a2c63095d11",
   "metadata": {},
   "source": [
    "# HEATMAP"
   ]
  },
  {
   "cell_type": "code",
   "execution_count": 21,
   "id": "5d19edd7-13e5-4c07-b1d5-9af6f30e44a0",
   "metadata": {},
   "outputs": [],
   "source": [
    "import plotly.graph_objects as go\n",
    "from PIL import Image\n",
    "import plotly.io as pio\n",
    "from io import BytesIO"
   ]
  },
  {
   "cell_type": "code",
   "execution_count": 27,
   "id": "048aea1e-8d8b-4598-be3a-4a1f5f7945ae",
   "metadata": {},
   "outputs": [
    {
     "name": "stdout",
     "output_type": "stream",
     "text": [
      "[105, 110, 108, 112, 115, 155, 160, 165, 170, 175, 125, 130, 128, 135, 140, 125, 128, 130, 132, 134, 100, 105, 110, 115, 120] [205, 210, 208, 215, 220, 255, 260, 265, 270, 275, 225, 230, 228, 235, 240, 224, 227, 230, 232, 234, 200, 205, 210, 215, 220]\n",
      "[120, -2, 15, 20, 25, 30, 35, 13, 15, 17, 20, 23] [-25, 40, 100, 105, 110, 115, 120, 25, 30, 35, 40, 45]\n",
      "[300, 355, 360, 365, 370, 375] [250, 355, 360, 365, 370, 375]\n",
      "[190] [420]\n"
     ]
    }
   ],
   "source": [
    "frame=0\n",
    "heatmap_image = cv2.imread(\"data/map_heat.png\")\n",
    "\n",
    "output_folder2='heatmap2'\n",
    "os.makedirs(output_folder2, exist_ok=True)\n",
    "\n",
    "# Custom colorscale: transparent to yellow to red\n",
    "colorscale = [\n",
    "    [0, 'rgba(60, 70, 160, 0)'],   # Transparent at low values\n",
    "    [0.3, 'rgba(255,255,0,0.2)'], # Yellow at low values\n",
    "    [0.5, 'rgba(255,140, 0, 0.7)'], # orange at middle values\n",
    "    [0.7, 'rgba(255,0,0, 0.8)'], # Red at middle values\n",
    "    [1, 'rgba(128,0,0, 1)']    # Maroon at high values\n",
    "]\n",
    "\n",
    "for id_key,coord_values in new_ids_copy.items(): \n",
    "\n",
    "    print(new_ids_copy[id_key][0],new_ids_copy[id_key][1])\n",
    "    x_coords=np.array(new_ids_copy[id_key][0])\n",
    "    y_coords=np.array(new_ids_copy[id_key][1])\n",
    "    \n",
    "    img = heatmap_image.copy()\n",
    "    map_image_rgb = cv2.cvtColor(img, cv2.COLOR_BGR2RGB)\n",
    "    heatmap = go.Figure()\n",
    "    \n",
    "    x_coords2=np.array(new_ids_copy[id_key][0])\n",
    "    y_coords2=np.array(new_ids_copy[id_key][1])\n",
    "\n",
    "    # Add heatmap\n",
    "    heatmap.add_trace(go.Histogram2dContour(\n",
    "    x=x_coords2,\n",
    "    y=y_coords2,\n",
    "    colorscale=colorscale, \n",
    "    reversescale=False,\n",
    "    xaxis='x',\n",
    "    yaxis='y',\n",
    "    contours=dict(showlabels=False, coloring='heatmap')\n",
    "    ))\n",
    "\n",
    "    # Add scatter plot to show individual points\n",
    "    heatmap.add_trace(go.Scatter(\n",
    "    x=x_coords2, \n",
    "    y=y_coords2,\n",
    "    mode='markers',\n",
    "    marker=dict(color='rgba(0,0,0,0)'),\n",
    "    showlegend=False\n",
    "    ))\n",
    "    \n",
    "    # Overlay the heatmap on the image\n",
    "    heatmap.update_layout(\n",
    "    images=[go.layout.Image(\n",
    "        source=Image.fromarray(map_image_rgb),\n",
    "        xref=\"x\",\n",
    "        yref=\"y\",\n",
    "        x=0,\n",
    "        y=0,\n",
    "        sizex=map_image_rgb.shape[1],\n",
    "        sizey=map_image_rgb.shape[0],\n",
    "        sizing=\"stretch\",\n",
    "        layer=\"below\"\n",
    "    )],\n",
    "    xaxis=dict(visible=False, range=[0, map_image_rgb.shape[1]]),\n",
    "    yaxis=dict(visible=False, range=[map_image_rgb.shape[0], 0], scaleanchor=\"x\", scaleratio=1),\n",
    "    showlegend=False,\n",
    "    template=\"plotly_white\"\n",
    "    )\n",
    "    \n",
    "    # Convert plotly figure to an image using PIL\n",
    "    img_bytes = pio.to_image(heatmap, format='png')\n",
    "    img_pil = Image.open(BytesIO(img_bytes))\n",
    "    \n",
    "    img_pil.save(f'{output_folder2}/player_{id_key}.png')\n",
    "        \n",
    "    frame+=1"
   ]
  },
  {
   "cell_type": "code",
   "execution_count": null,
   "id": "7295462b-a057-48e9-a6fa-927e8a91db57",
   "metadata": {},
   "outputs": [],
   "source": []
  }
 ],
 "metadata": {
  "kernelspec": {
   "display_name": "Python 3 (ipykernel)",
   "language": "python",
   "name": "python3"
  },
  "language_info": {
   "codemirror_mode": {
    "name": "ipython",
    "version": 3
   },
   "file_extension": ".py",
   "mimetype": "text/x-python",
   "name": "python",
   "nbconvert_exporter": "python",
   "pygments_lexer": "ipython3",
   "version": "3.8.19"
  },
  "widgets": {
   "application/vnd.jupyter.widget-state+json": {
    "state": {},
    "version_major": 2,
    "version_minor": 0
   }
  }
 },
 "nbformat": 4,
 "nbformat_minor": 5
}
